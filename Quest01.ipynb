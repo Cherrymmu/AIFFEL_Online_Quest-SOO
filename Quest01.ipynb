{
  "nbformat": 4,
  "nbformat_minor": 0,
  "metadata": {
    "colab": {
      "provenance": [],
      "authorship_tag": "ABX9TyM4Tu7/s/nllxTg8E9DI0pN",
      "include_colab_link": true
    },
    "kernelspec": {
      "name": "python3",
      "display_name": "Python 3"
    },
    "language_info": {
      "name": "python"
    }
  },
  "cells": [
    {
      "cell_type": "markdown",
      "metadata": {
        "id": "view-in-github",
        "colab_type": "text"
      },
      "source": [
        "<a href=\"https://colab.research.google.com/github/whtnals135/AIFFEL_Online_Quest/blob/main/Quest01.ipynb\" target=\"_parent\"><img src=\"https://colab.research.google.com/assets/colab-badge.svg\" alt=\"Open In Colab\"/></a>"
      ]
    },
    {
      "cell_type": "code",
      "execution_count": 1,
      "metadata": {
        "colab": {
          "base_uri": "https://localhost:8080/"
        },
        "id": "gxzKzWZQ422M",
        "outputId": "79963f3a-a82e-40b7-d6cb-91d290a2112a"
      },
      "outputs": [
        {
          "output_type": "stream",
          "name": "stdout",
          "text": [
            "Hello World, sumin!\n"
          ]
        }
      ],
      "source": [
        "print('Hello World, sumin!')"
      ]
    },
    {
      "cell_type": "code",
      "source": [
        "print('Hello World,냐냐!')"
      ],
      "metadata": {
        "colab": {
          "base_uri": "https://localhost:8080/"
        },
        "id": "Q0I7ISGl5rjE",
        "outputId": "4d1bb7e1-e240-4630-c3ed-152adfbf300d"
      },
      "execution_count": 2,
      "outputs": [
        {
          "output_type": "stream",
          "name": "stdout",
          "text": [
            "Hello World,냐냐!\n"
          ]
        }
      ]
    }
  ]
}